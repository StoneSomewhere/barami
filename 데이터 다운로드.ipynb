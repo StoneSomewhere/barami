{
 "cells": [
  {
   "cell_type": "code",
   "execution_count": 3,
   "metadata": {
    "scrolled": true
   },
   "outputs": [
    {
     "name": "stdout",
     "output_type": "stream",
     "text": [
      "[*********************100%***********************]  32 of 32 completed\n",
      "\n",
      "30 Failed downloads:\n",
      "- LABU: 1h data not available for startTime=1432819800 and endTime=1635476930. The requested range must be within the last 730 days.\n",
      "- WANT: 1h data not available for startTime=1543501800 and endTime=1635476930. The requested range must be within the last 730 days.\n",
      "- MIDU: 1h data not available for startTime=1231425000 and endTime=1635476930. The requested range must be within the last 730 days.\n",
      "- DFEN: 1h data not available for startTime=1493818200 and endTime=1635476930. The requested range must be within the last 730 days.\n",
      "- RETL: 1h data not available for startTime=1279114200 and endTime=1635476930. The requested range must be within the last 730 days.\n",
      "- RUSL: 1h data not available for startTime=1306330200 and endTime=1635476930. The requested range must be within the last 730 days.\n",
      "- TQQQ: 1h data not available for startTime=1265898600 and endTime=1635476930. The requested range must be within the last 730 days.\n",
      "- PILL: 1h data not available for startTime=1510756200 and endTime=1635476930. The requested range must be within the last 730 days.\n",
      "- CURE: 1h data not available for startTime=1308144600 and endTime=1635476930. The requested range must be within the last 730 days.\n",
      "- UDOW: 1h data not available for startTime=1265898600 and endTime=1635476930. The requested range must be within the last 730 days.\n",
      "- UPRO: 1h data not available for startTime=1245936600 and endTime=1635476930. The requested range must be within the last 730 days.\n",
      "- TMF: 1h data not available for startTime=1239888600 and endTime=1635476930. The requested range must be within the last 730 days.\n",
      "- UBOT: 1h data not available for startTime=1524144600 and endTime=1635476930. The requested range must be within the last 730 days.\n",
      "- UMDD: 1h data not available for startTime=1265898600 and endTime=1635476930. The requested range must be within the last 730 days.\n",
      "- NRGU: 1h data not available for startTime=1555421400 and endTime=1635476930. The requested range must be within the last 730 days.\n",
      "- TECL: 1h data not available for startTime=1230647400 and endTime=1635476931. The requested range must be within the last 730 days.\n",
      "- KORU: 1h data not available for startTime=1365600600 and endTime=1635476931. The requested range must be within the last 730 days.\n",
      "- TYD: 1h data not available for startTime=1239888600 and endTime=1635476931. The requested range must be within the last 730 days.\n",
      "- FAS: 1h data not available for startTime=1227105000 and endTime=1635476931. The requested range must be within the last 730 days.\n",
      "- SOXL: 1h data not available for startTime=1268317800 and endTime=1635476931. The requested range must be within the last 730 days.\n",
      "- ERX: 1h data not available for startTime=1227105000 and endTime=1635476931. The requested range must be within the last 730 days.\n",
      "- DUSL: 1h data not available for startTime=1493818200 and endTime=1635476931. The requested range must be within the last 730 days.\n",
      "- EDC: 1h data not available for startTime=1230647400 and endTime=1635476931. The requested range must be within the last 730 days.\n",
      "- SPXL: 1h data not available for startTime=1225895400 and endTime=1635476931. The requested range must be within the last 730 days.\n",
      "- DRN: 1h data not available for startTime=1247751000 and endTime=1635476931. The requested range must be within the last 730 days.\n",
      "- FNGU: 1h data not available for startTime=1516717800 and endTime=1635476931. The requested range must be within the last 730 days.\n",
      "- LBJ: 1h data not available for startTime=1259850600 and endTime=1635476931. The requested range must be within the last 730 days.\n",
      "- NAIL: 1h data not available for startTime=1439991000 and endTime=1635476931. The requested range must be within the last 730 days.\n",
      "- INDL: 1h data not available for startTime=1268317800 and endTime=1635476931. The requested range must be within the last 730 days.\n",
      "- GUSH: 1h data not available for startTime=1432906200 and endTime=1635476931. The requested range must be within the last 730 days.\n"
     ]
    }
   ],
   "source": [
    "import pandas as pd\n",
    "import numpy as np\n",
    "import yfinance as yf\n",
    "from tqdm import tqdm\n",
    "\n",
    "List = pd.read_csv('./3bull_list.csv')[\"list\"]\n",
    "ss = \" \".join(List)\n",
    "Ticker = \" \".join(ss.split())\n",
    "\n",
    "#모두 동시에 다운로드\n",
    "Data = yf.download(tickers=Ticker, interval=\"1h\", period=\"max\")\n",
    "\n",
    "\n",
    "# Ticker = Ticker.split()\n",
    "\n",
    "List = Data[\"Adj Close\"].columns.values\n",
    "#print(List)\n"
   ]
  },
  {
   "cell_type": "code",
   "execution_count": 4,
   "metadata": {
    "scrolled": true
   },
   "outputs": [
    {
     "name": "stderr",
     "output_type": "stream",
     "text": [
      "\r",
      "  0%|                                                                                           | 0/32 [00:00<?, ?it/s]"
     ]
    },
    {
     "name": "stdout",
     "output_type": "stream",
     "text": [
      "\r",
      "[*********************100%***********************]  1 of 1 completed"
     ]
    },
    {
     "name": "stderr",
     "output_type": "stream",
     "text": [
      "\r",
      "  3%|██▌                                                                                | 1/32 [00:00<00:22,  1.39it/s]"
     ]
    },
    {
     "name": "stdout",
     "output_type": "stream",
     "text": [
      "\n",
      "[*********************100%***********************]  1 of 1 completed"
     ]
    },
    {
     "name": "stderr",
     "output_type": "stream",
     "text": [
      "\r",
      "  6%|█████▏                                                                             | 2/32 [00:01<00:21,  1.40it/s]"
     ]
    },
    {
     "name": "stdout",
     "output_type": "stream",
     "text": [
      "\n",
      "[*********************100%***********************]  1 of 1 completed"
     ]
    },
    {
     "name": "stderr",
     "output_type": "stream",
     "text": [
      "\r",
      "  9%|███████▊                                                                           | 3/32 [00:02<00:20,  1.38it/s]"
     ]
    },
    {
     "name": "stdout",
     "output_type": "stream",
     "text": [
      "\n",
      "[*********************100%***********************]  1 of 1 completed"
     ]
    },
    {
     "name": "stderr",
     "output_type": "stream",
     "text": [
      "\r",
      " 12%|██████████▍                                                                        | 4/32 [00:02<00:21,  1.32it/s]"
     ]
    },
    {
     "name": "stdout",
     "output_type": "stream",
     "text": [
      "\n",
      "[*********************100%***********************]  1 of 1 completed"
     ]
    },
    {
     "name": "stderr",
     "output_type": "stream",
     "text": [
      "\r",
      " 16%|████████████▉                                                                      | 5/32 [00:03<00:20,  1.35it/s]"
     ]
    },
    {
     "name": "stdout",
     "output_type": "stream",
     "text": [
      "\n",
      "[*********************100%***********************]  1 of 1 completed"
     ]
    },
    {
     "name": "stderr",
     "output_type": "stream",
     "text": [
      "\r",
      " 19%|███████████████▌                                                                   | 6/32 [00:04<00:21,  1.22it/s]"
     ]
    },
    {
     "name": "stdout",
     "output_type": "stream",
     "text": [
      "\n",
      "[*********************100%***********************]  1 of 1 completed"
     ]
    },
    {
     "name": "stderr",
     "output_type": "stream",
     "text": [
      "\r",
      " 22%|██████████████████▏                                                                | 7/32 [00:05<00:20,  1.25it/s]"
     ]
    },
    {
     "name": "stdout",
     "output_type": "stream",
     "text": [
      "\n",
      "[*********************100%***********************]  1 of 1 completed"
     ]
    },
    {
     "name": "stderr",
     "output_type": "stream",
     "text": [
      "\r",
      " 25%|████████████████████▊                                                              | 8/32 [00:07<00:28,  1.17s/it]"
     ]
    },
    {
     "name": "stdout",
     "output_type": "stream",
     "text": [
      "\n",
      "[*********************100%***********************]  1 of 1 completed"
     ]
    },
    {
     "name": "stderr",
     "output_type": "stream",
     "text": [
      "\r",
      " 28%|███████████████████████▎                                                           | 9/32 [00:08<00:28,  1.23s/it]"
     ]
    },
    {
     "name": "stdout",
     "output_type": "stream",
     "text": [
      "\n"
     ]
    },
    {
     "name": "stderr",
     "output_type": "stream",
     "text": [
      "\r",
      " 31%|█████████████████████████▋                                                        | 10/32 [00:08<00:19,  1.12it/s]"
     ]
    },
    {
     "name": "stdout",
     "output_type": "stream",
     "text": [
      "\r",
      "[*********************100%***********************]  1 of 1 completed"
     ]
    },
    {
     "name": "stderr",
     "output_type": "stream",
     "text": [
      "\r",
      " 34%|████████████████████████████▏                                                     | 11/32 [00:09<00:18,  1.14it/s]"
     ]
    },
    {
     "name": "stdout",
     "output_type": "stream",
     "text": [
      "\n",
      "[*********************100%***********************]  1 of 1 completed"
     ]
    },
    {
     "name": "stderr",
     "output_type": "stream",
     "text": [
      "\r",
      " 38%|██████████████████████████████▊                                                   | 12/32 [00:10<00:16,  1.20it/s]"
     ]
    },
    {
     "name": "stdout",
     "output_type": "stream",
     "text": [
      "\n",
      "[*********************100%***********************]  1 of 1 completed"
     ]
    },
    {
     "name": "stderr",
     "output_type": "stream",
     "text": [
      "\r",
      " 41%|█████████████████████████████████▎                                                | 13/32 [00:11<00:15,  1.22it/s]"
     ]
    },
    {
     "name": "stdout",
     "output_type": "stream",
     "text": [
      "\n",
      "[*********************100%***********************]  1 of 1 completed"
     ]
    },
    {
     "name": "stderr",
     "output_type": "stream",
     "text": [
      "\r",
      " 44%|███████████████████████████████████▉                                              | 14/32 [00:12<00:16,  1.07it/s]"
     ]
    },
    {
     "name": "stdout",
     "output_type": "stream",
     "text": [
      "\n",
      "[*********************100%***********************]  1 of 1 completed"
     ]
    },
    {
     "name": "stderr",
     "output_type": "stream",
     "text": [
      "\r",
      " 47%|██████████████████████████████████████▍                                           | 15/32 [00:13<00:14,  1.16it/s]"
     ]
    },
    {
     "name": "stdout",
     "output_type": "stream",
     "text": [
      "\n",
      "[*********************100%***********************]  1 of 1 completed"
     ]
    },
    {
     "name": "stderr",
     "output_type": "stream",
     "text": [
      "\r",
      " 50%|█████████████████████████████████████████                                         | 16/32 [00:14<00:13,  1.19it/s]"
     ]
    },
    {
     "name": "stdout",
     "output_type": "stream",
     "text": [
      "\n",
      "[*********************100%***********************]  1 of 1 completed\n",
      "\n",
      "1 Failed download:\n",
      "- NRGU: 1h data not available for startTime=1555421400 and endTime=1635476947. The requested range must be within the last 730 days.\n",
      "[*********************100%***********************]  1 of 1 completed\n",
      "\n",
      "1 Failed download:\n",
      "- NRGU: 1h data not available for startTime=1555421400 and endTime=1635476947. The requested range must be within the last 730 days.\n",
      "[*********************100%***********************]  1 of 1 completed"
     ]
    },
    {
     "name": "stderr",
     "output_type": "stream",
     "text": [
      "\r",
      " 53%|███████████████████████████████████████████▌                                      | 17/32 [00:15<00:15,  1.02s/it]"
     ]
    },
    {
     "name": "stdout",
     "output_type": "stream",
     "text": [
      "\n",
      "[*********************100%***********************]  1 of 1 completed"
     ]
    },
    {
     "name": "stderr",
     "output_type": "stream",
     "text": [
      "\r",
      " 56%|██████████████████████████████████████████████▏                                   | 18/32 [00:16<00:12,  1.08it/s]"
     ]
    },
    {
     "name": "stdout",
     "output_type": "stream",
     "text": [
      "\n",
      "[*********************100%***********************]  1 of 1 completed"
     ]
    },
    {
     "name": "stderr",
     "output_type": "stream",
     "text": [
      "\r",
      " 59%|████████████████████████████████████████████████▋                                 | 19/32 [00:17<00:12,  1.01it/s]"
     ]
    },
    {
     "name": "stdout",
     "output_type": "stream",
     "text": [
      "\n",
      "[*********************100%***********************]  1 of 1 completed"
     ]
    },
    {
     "name": "stderr",
     "output_type": "stream",
     "text": [
      "\r",
      " 62%|███████████████████████████████████████████████████▎                              | 20/32 [00:18<00:10,  1.10it/s]"
     ]
    },
    {
     "name": "stdout",
     "output_type": "stream",
     "text": [
      "\n",
      "[*********************100%***********************]  1 of 1 completed"
     ]
    },
    {
     "name": "stderr",
     "output_type": "stream",
     "text": [
      "\r",
      " 66%|█████████████████████████████████████████████████████▊                            | 21/32 [00:19<00:12,  1.16s/it]"
     ]
    },
    {
     "name": "stdout",
     "output_type": "stream",
     "text": [
      "\n",
      "[*********************100%***********************]  1 of 1 completed"
     ]
    },
    {
     "name": "stderr",
     "output_type": "stream",
     "text": [
      "\r",
      " 69%|████████████████████████████████████████████████████████▍                         | 22/32 [00:20<00:10,  1.03s/it]"
     ]
    },
    {
     "name": "stdout",
     "output_type": "stream",
     "text": [
      "\n",
      "[*********************100%***********************]  1 of 1 completed"
     ]
    },
    {
     "name": "stderr",
     "output_type": "stream",
     "text": [
      "\r",
      " 72%|██████████████████████████████████████████████████████████▉                       | 23/32 [00:21<00:10,  1.12s/it]"
     ]
    },
    {
     "name": "stdout",
     "output_type": "stream",
     "text": [
      "\n",
      "[*********************100%***********************]  1 of 1 completed"
     ]
    },
    {
     "name": "stderr",
     "output_type": "stream",
     "text": [
      "\r",
      " 75%|█████████████████████████████████████████████████████████████▌                    | 24/32 [00:22<00:07,  1.01it/s]"
     ]
    },
    {
     "name": "stdout",
     "output_type": "stream",
     "text": [
      "\n",
      "[*********************100%***********************]  1 of 1 completed"
     ]
    },
    {
     "name": "stderr",
     "output_type": "stream",
     "text": [
      "\r",
      " 78%|████████████████████████████████████████████████████████████████                  | 25/32 [00:25<00:11,  1.58s/it]"
     ]
    },
    {
     "name": "stdout",
     "output_type": "stream",
     "text": [
      "\n",
      "[*********************100%***********************]  1 of 1 completed"
     ]
    },
    {
     "name": "stderr",
     "output_type": "stream",
     "text": [
      "\r",
      " 81%|██████████████████████████████████████████████████████████████████▋               | 26/32 [00:26<00:07,  1.28s/it]"
     ]
    },
    {
     "name": "stdout",
     "output_type": "stream",
     "text": [
      "\n",
      "[*********************100%***********************]  1 of 1 completed"
     ]
    },
    {
     "name": "stderr",
     "output_type": "stream",
     "text": [
      "\r",
      " 84%|█████████████████████████████████████████████████████████████████████▏            | 27/32 [00:28<00:08,  1.63s/it]"
     ]
    },
    {
     "name": "stdout",
     "output_type": "stream",
     "text": [
      "\n",
      "[*********************100%***********************]  1 of 1 completed"
     ]
    },
    {
     "name": "stderr",
     "output_type": "stream",
     "text": [
      "\r",
      " 88%|███████████████████████████████████████████████████████████████████████▊          | 28/32 [00:30<00:06,  1.64s/it]"
     ]
    },
    {
     "name": "stdout",
     "output_type": "stream",
     "text": [
      "\n",
      "[*********************100%***********************]  1 of 1 completed"
     ]
    },
    {
     "name": "stderr",
     "output_type": "stream",
     "text": [
      "\r",
      " 91%|██████████████████████████████████████████████████████████████████████████▎       | 29/32 [00:31<00:04,  1.62s/it]"
     ]
    },
    {
     "name": "stdout",
     "output_type": "stream",
     "text": [
      "\n",
      "[*********************100%***********************]  1 of 1 completed"
     ]
    },
    {
     "name": "stderr",
     "output_type": "stream",
     "text": [
      "\r",
      " 94%|████████████████████████████████████████████████████████████████████████████▉     | 30/32 [00:32<00:02,  1.35s/it]"
     ]
    },
    {
     "name": "stdout",
     "output_type": "stream",
     "text": [
      "\n",
      "[*********************100%***********************]  1 of 1 completed"
     ]
    },
    {
     "name": "stderr",
     "output_type": "stream",
     "text": [
      "\r",
      " 97%|███████████████████████████████████████████████████████████████████████████████▍  | 31/32 [00:33<00:01,  1.16s/it]"
     ]
    },
    {
     "name": "stdout",
     "output_type": "stream",
     "text": [
      "\n"
     ]
    },
    {
     "name": "stderr",
     "output_type": "stream",
     "text": [
      "100%|██████████████████████████████████████████████████████████████████████████████████| 32/32 [00:33<00:00,  1.04s/it]\n"
     ]
    }
   ],
   "source": [
    "Col = [\"High\", \"Low\", \"Adj Close\", \"Volume\"]\n",
    "\n",
    "for name in tqdm(List):\n",
    "    stock = pd.concat([Data[\"High\"][name], Data[\"Low\"][name], Data[\"Adj Close\"][name], Data[\"Volume\"][name]], axis=1)\n",
    "    stock.columns = Col\n",
    "    if stock[\"Adj Close\"].isnull().all():\n",
    "        i = 730\n",
    "        while (stock[\"Adj Close\"].isnull().all()):\n",
    "            stock = yf.download(tickers=name, interval='1h', period=str(i) + 'd')[Col]\n",
    "            i = i - 50\n",
    "            if i<200: break\n",
    "\n",
    "    if stock[\"Adj Close\"].isnull().all(): continue\n",
    "    stock = stock.dropna(axis=0)\n",
    "    stock.dropna(subset=['Adj Close'], inplace=True)\n",
    "    start = str(stock.index[0])[:10]\n",
    "    stock.to_csv(\"./3bull_1h/\" + name + \"_\" + \"1h\" + \"_\" + start + \".csv\", mode='w')\n",
    "#    stock.to_csv(\"./3bull_uptodate/\" + name + \"_\" + \"1h\" + \"_\" + \".csv\", mode='w')  #날짜 안 씀"
   ]
  },
  {
   "cell_type": "code",
   "execution_count": null,
   "metadata": {},
   "outputs": [],
   "source": []
  }
 ],
 "metadata": {
  "kernelspec": {
   "display_name": "Python 3",
   "language": "python",
   "name": "python3"
  },
  "language_info": {
   "codemirror_mode": {
    "name": "ipython",
    "version": 3
   },
   "file_extension": ".py",
   "mimetype": "text/x-python",
   "name": "python",
   "nbconvert_exporter": "python",
   "pygments_lexer": "ipython3",
   "version": "3.8.5"
  }
 },
 "nbformat": 4,
 "nbformat_minor": 4
}
