{
 "cells": [
  {
   "cell_type": "code",
   "execution_count": 3,
   "metadata": {},
   "outputs": [
    {
     "name": "stdout",
     "output_type": "stream",
     "text": [
      "Model: \"sequential\"\n",
      "_________________________________________________________________\n",
      "Layer (type)                 Output Shape              Param #   \n",
      "=================================================================\n",
      "gru (GRU)                    (None, 35, 32)            3648      \n",
      "_________________________________________________________________\n",
      "dropout (Dropout)            (None, 35, 32)            0         \n",
      "_________________________________________________________________\n",
      "gru_1 (GRU)                  (None, 35, 16)            2400      \n",
      "_________________________________________________________________\n",
      "dropout_1 (Dropout)          (None, 35, 16)            0         \n",
      "_________________________________________________________________\n",
      "gru_2 (GRU)                  (None, 16)                1632      \n",
      "_________________________________________________________________\n",
      "dropout_2 (Dropout)          (None, 16)                0         \n",
      "_________________________________________________________________\n",
      "dense (Dense)                (None, 1)                 17        \n",
      "=================================================================\n",
      "Total params: 7,697\n",
      "Trainable params: 7,697\n",
      "Non-trainable params: 0\n",
      "_________________________________________________________________\n",
      "WARNING:tensorflow:Compiled the loaded model, but the compiled metrics have yet to be built. `model.compile_metrics` will be empty until you train or evaluate the model.\n"
     ]
    }
   ],
   "source": [
    "import numpy as np\n",
    "from LoadData import load_data\n",
    "from keras.layers import SimpleRNN, LSTM, GRU, Dense, Dropout\n",
    "from keras.models import Sequential, load_model\n",
    "from keras.callbacks import ModelCheckpoint, TerminateOnNaN\n",
    "import keras.backend as K\n",
    "from keras import optimizers\n",
    "from tensorflow.keras.regularizers import l2\n",
    "#256까지가 전처리\n",
    "#뒷단은 성능이 수렴할 때마다 추가할 것\n",
    "#효과가 없다.\n",
    "K.clear_session()\n",
    "\n",
    "Model = Sequential()  # Sequeatial Model\n",
    "Model.add(GRU(64, kernel_regularizer= l2(2e-4), activation='tanh', input_shape=(64, 4), return_sequences = True, kernel_initializer='he_uniform'))\n",
    "Model.add(Dropout(0.35))\n",
    "Model.add(GRU(16, kernel_regularizer= l2(2e-4), activation='elu', return_sequences = False, kernel_initializer='he_normal'))\n",
    "Model.add(Dropout(0.2))\n",
    "Model.add(Dense(1, kernel_regularizer= l2(2e-4), activation='sigmoid', kernel_initializer='he_normal'))\n",
    "Model.summary()\n",
    "\n",
    "#for i in range(0, 5, 2): Model.layers[i].trainable = False\n",
    "\n",
    "#Model.load_weights('GRU1_1h.h5', by_name=True, skip_mismatch=True)\n",
    "Model.save('GRU3_1h.h5')\n",
    "\n",
    "#128출력까지를 인코딩 단락이라고 여긴다. 따라서 층은 출력쪽에 더 추가될 수 있다. 추가한다면 32개의 히든층을 갖는 것으로 해라."
   ]
  },
  {
   "cell_type": "code",
   "execution_count": 6,
   "metadata": {},
   "outputs": [
    {
     "data": {
      "text/plain": [
       "0"
      ]
     },
     "execution_count": 6,
     "metadata": {},
     "output_type": "execute_result"
    }
   ],
   "source": [
    "import numpy as np\n",
    "np.sign(int(False))"
   ]
  },
  {
   "cell_type": "code",
   "execution_count": null,
   "metadata": {},
   "outputs": [],
   "source": []
  }
 ],
 "metadata": {
  "kernelspec": {
   "display_name": "Python 3",
   "language": "python",
   "name": "python3"
  },
  "language_info": {
   "codemirror_mode": {
    "name": "ipython",
    "version": 3
   },
   "file_extension": ".py",
   "mimetype": "text/x-python",
   "name": "python",
   "nbconvert_exporter": "python",
   "pygments_lexer": "ipython3",
   "version": "3.8.5"
  }
 },
 "nbformat": 4,
 "nbformat_minor": 4
}
