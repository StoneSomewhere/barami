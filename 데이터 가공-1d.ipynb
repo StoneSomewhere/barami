{
 "cells": [
  {
   "cell_type": "code",
   "execution_count": 8,
   "metadata": {
    "scrolled": true
   },
   "outputs": [
    {
     "name": "stdout",
     "output_type": "stream",
     "text": [
      "stock_1d.pickle\n"
     ]
    },
    {
     "name": "stderr",
     "output_type": "stream",
     "text": [
      "100%|██████████████████████████████████████████████████████████████████████████████| 2118/2118 [30:13<00:00,  1.17it/s]\n"
     ]
    },
    {
     "name": "stdout",
     "output_type": "stream",
     "text": [
      "etf_1d.pickle\n"
     ]
    },
    {
     "name": "stderr",
     "output_type": "stream",
     "text": [
      "100%|██████████████████████████████████████████████████████████████████████████████| 1136/1136 [05:16<00:00,  3.59it/s]\n"
     ]
    }
   ],
   "source": [
    "import os\n",
    "import pandas as pd\n",
    "import numpy as np\n",
    "from tqdm import tqdm\n",
    "import pickle\n",
    "from WavletTransform import wavlet_transform\n",
    "\n",
    "\n",
    "base = 256  # 몇 일의 데이터를 쓸 것인가\n",
    "period = 20   # 몇 step내를 예측할 것인가\n",
    "step = 10  # 몇 step씩 이동할 것인가\n",
    "\n",
    "#pickle_list=['3bull_1h_uptodate.pickle', 'etf_1h.pickle', 'stock_1h.pckle']\n",
    "pickle_list=['stock_1d.pickle', 'etf_1d.pickle' ]\n",
    "X, Y = [],[]\n",
    "for dict_file in pickle_list:\n",
    "    print(dict_file)\n",
    "    with open(dict_file,\"rb\") as fr:\n",
    "        container = pickle.load(fr)\n",
    "\n",
    "    \n",
    "    for name in tqdm(container):\n",
    "        \n",
    "        Data = container[name]\n",
    "        Data.columns=[\"High\", \"Low\", \"Close\", \"Volume\"]                \n",
    "        Data[\"Volume\"]=np.log(Data[\"Volume\"] + 1)\n",
    "        Data.dropna(subset=['Close'], inplace=True) \n",
    "#        print(Data)\n",
    "        \n",
    "              \n",
    "            \n",
    "#        date_list = Data.iloc[base-1:].loc[:].index[:-period][::step]    # 예측하려는 날짜-1일까지 step씩\n",
    "        date_list = Data.iloc[base-1:].loc[:\"2021063009\"].index[:-period][::step]    # 예측하려는 날짜-1일까지 step씩\n",
    "        #date_list = Data.iloc[base-1:].index[:-period]            #예측하려는 날짜-1\n",
    "        \n",
    "        # i는 예측하려는 날-1\n",
    "        for i in date_list:\n",
    "            \n",
    "            \n",
    "            close_std=Data.loc[:i].iloc[-base:][\"Close\"].std()    #수정종가의 표준편차\n",
    "            Last_price = Data.loc[i]['Close'] + 0.0001\n",
    "            y = Data.loc[i:].iloc[1:period + 1][\"Close\"]/Last_price - 1\n",
    "            err=1\n",
    "            \n",
    "            for s in range(10, 9, -1):#10%는 올라야지\n",
    "                fluct = y[abs(y) > 0.01*s]\n",
    "                if np.shape(fluct)[0] > 0:\n",
    "                    y=fluct.iloc[0]     #후에 어떤 추가적 변동이 있었든지 가장 먼저 변동한 것만 취급한다.\n",
    "                    err=0\n",
    "                    break\n",
    "            if err==1:continue\n",
    "            \n",
    "            x = Data.loc[:i].iloc[-base:]           #예측일자 -base일\n",
    "            if x.isnull().values.any() : continue   #null값 있으면 pass            \n",
    "            x = (x-x.mean())/(x.std()+0.0001)        #정규화    \n",
    "                        \n",
    "            \n",
    "            y = (np.sign(y)+1)//2  #올랐으면 1 내렸으면 0\n",
    "            Y.append(y)\n",
    "            X.append(x)    \n",
    "#    np.save('X_%s_%d.npy' %(save_name, step), XX)\n",
    "#    np.save('Y_%s_%d.npy' %(save_name, step), YY)\n",
    "    \n"
   ]
  },
  {
   "cell_type": "code",
   "execution_count": 9,
   "metadata": {},
   "outputs": [
    {
     "name": "stdout",
     "output_type": "stream",
     "text": [
      "(540284, 256, 4)\n",
      "(237881,)\n",
      "(302403,)\n"
     ]
    },
    {
     "data": {
      "text/plain": [
       "'\\n#균등화\\nuI = YY==1\\ndI = YY==0\\n\\nlength = min(sum(uI), sum(dI))\\n\\nXX = np.concatenate( (XX[uI][:length], XX[dI][:length]  ), axis=0)\\nYY = np.concatenate( (YY[uI][:length], YY[dI][:length]  ), axis=0)\\n\\nI = np.arange(np.shape(YY)[0])\\n\\nnp.random.shuffle(I)\\n\\nXX = XX[I]\\nYY = YY[I]\\n'"
      ]
     },
     "execution_count": 9,
     "metadata": {},
     "output_type": "execute_result"
    }
   ],
   "source": [
    "\n",
    "XX = np.array(X)\n",
    "YY = np.array(Y, dtype=\"uint8\")\n",
    "\n",
    "I = np.arange(np.shape(YY)[0])\n",
    "np.random.shuffle(I)\n",
    "\n",
    "XX = XX[I]\n",
    "YY = YY[I]\n",
    "\n",
    "shape = np.shape(XX)\n",
    "print(shape)\n",
    "print(np.shape(YY[YY==0])), print(np.shape(YY[YY==1]))\n",
    "    \n",
    "#save_name=dict_file.split('.')[0]\n",
    "\n",
    "'''\n",
    "#균등화\n",
    "uI = YY==1\n",
    "dI = YY==0\n",
    "\n",
    "length = min(sum(uI), sum(dI))\n",
    "\n",
    "XX = np.concatenate( (XX[uI][:length], XX[dI][:length]  ), axis=0)\n",
    "YY = np.concatenate( (YY[uI][:length], YY[dI][:length]  ), axis=0)\n",
    "\n",
    "I = np.arange(np.shape(YY)[0])\n",
    "\n",
    "np.random.shuffle(I)\n",
    "\n",
    "XX = XX[I]\n",
    "YY = YY[I]\n",
    "'''"
   ]
  },
  {
   "cell_type": "code",
   "execution_count": 10,
   "metadata": {},
   "outputs": [],
   "source": [
    "s=2\n",
    "shape = np.shape(XX)[0]%s\n",
    "\n",
    "XX = np.split(XX[shape:], s)\n",
    "YY = np.split(YY[shape:], s)\n",
    "\n",
    "for i in range(s):\n",
    "    np.save('X_train_%d.npy' %(i+1), XX[i])\n",
    "    np.save('Y_train_%d.npy' %(i+1), YY[i])\n",
    "    "
   ]
  },
  {
   "cell_type": "code",
   "execution_count": 11,
   "metadata": {},
   "outputs": [
    {
     "name": "stdout",
     "output_type": "stream",
     "text": [
      "etf_1d.pickle\n"
     ]
    },
    {
     "name": "stderr",
     "output_type": "stream",
     "text": [
      "100%|██████████████████████████████████████████████████████████████████████████████| 1136/1136 [08:04<00:00,  2.34it/s]\n"
     ]
    },
    {
     "name": "stdout",
     "output_type": "stream",
     "text": [
      "(68160, 256, 4)\n",
      "(23856,)\n",
      "(44304,)\n"
     ]
    }
   ],
   "source": [
    "import os\n",
    "import pandas as pd\n",
    "import numpy as np\n",
    "from tqdm import tqdm\n",
    "import pickle\n",
    "from WavletTransform import wavlet_transform\n",
    "\n",
    "\n",
    "base = 256  # 몇 일의 데이터를 쓸 것인가\n",
    "period = 20   # 몇 step내를 예측할 것인가\n",
    "step = 7  # 몇 step씩 이동할 것인가\n",
    "\n",
    "#pickle_list=['3bull_1h_uptodate.pickle', 'etf_1h.pickle', 'stock_1h.pckle']\n",
    "pickle_list=['etf_1d.pickle', 'dummy' ]\n",
    "X, Y = [],[]\n",
    "for dict_file in pickle_list:\n",
    "    print(dict_file)\n",
    "    with open(dict_file,\"rb\") as fr:\n",
    "        container = pickle.load(fr)\n",
    "\n",
    "    \n",
    "    for name in tqdm(container):\n",
    "        \n",
    "        Data.columns=[\"High\", \"Low\", \"Close\", \"Volume\"]                \n",
    "        Data[\"Volume\"]=np.log(Data[\"Volume\"] + 1)\n",
    "        Data.dropna(subset=['Close'], inplace=True) \n",
    "        \n",
    "              \n",
    "            \n",
    "#        date_list = Data.iloc[base-1:].loc[:].index[:-period][::step]    # 예측하려는 날짜-1일까지 step씩\n",
    "        date_list = Data.iloc[base-1:].loc[:\"2021063009\"].index[:-period][::step]    # 예측하려는 날짜-1일까지 step씩\n",
    "        #date_list = Data.iloc[base-1:].index[:-period]            #예측하려는 날짜-1\n",
    "        \n",
    "        # i는 예측하려는 날-1\n",
    "        for i in date_list:\n",
    "            \n",
    "            \n",
    "            close_std=Data.loc[:i].iloc[-base:][\"Close\"].std()    #수정종가의 표준편차\n",
    "            Last_price = Data.loc[i]['Close'] + 0.0001\n",
    "            y = Data.loc[i:].iloc[1:period + 1][\"Close\"]/Last_price - 1\n",
    "            err=1\n",
    "            \n",
    "            for s in range(9, 8, -1):#9%는 올라야지\n",
    "                fluct = y[abs(y) > 0.01*s]\n",
    "                if np.shape(fluct)[0] > 0:\n",
    "                    y=fluct.iloc[0]     #후에 어떤 추가적 변동이 있었든지 가장 먼저 변동한 것만 취급한다.\n",
    "                    err=0\n",
    "                    break\n",
    "            if err==1:continue\n",
    "            \n",
    "            x = Data.loc[:i].iloc[-base:]           #예측일자 -base일\n",
    "            if x.isnull().values.any() : continue   #null값 있으면 pass            \n",
    "            x = (x-x.mean())/(x.std()+0.0001)        #정규화    \n",
    "                        \n",
    "            \n",
    "            y = (np.sign(y)+1)//2  #올랐으면 1 내렸으면 0\n",
    "            Y.append(y)\n",
    "            X.append(x)    \n",
    "\n",
    "    XX = np.array(X)\n",
    "    YY = np.array(Y, dtype=\"uint8\")\n",
    "\n",
    "    I = np.arange(np.shape(YY)[0])\n",
    "    np.random.shuffle(I)\n",
    "\n",
    "    XX = XX[I]\n",
    "    YY = YY[I]\n",
    "\n",
    "    shape = np.shape(XX)\n",
    "    print(shape)\n",
    "    print(np.shape(YY[YY==0])), print(np.shape(YY[YY==1]))\n",
    "    \n",
    "    save_name=dict_file.split('.')[0]\n",
    "        \n",
    "    np.save('X_%s_%d.npy' %(save_name, step), XX)\n",
    "    np.save('Y_%s_%d.npy' %(save_name, step), YY)\n",
    "    break\n",
    "    \n"
   ]
  },
  {
   "cell_type": "code",
   "execution_count": 15,
   "metadata": {},
   "outputs": [
    {
     "name": "stderr",
     "output_type": "stream",
     "text": [
      "  6%|█████▎                                                                             | 2/31 [00:00<00:02, 13.37it/s]"
     ]
    },
    {
     "name": "stdout",
     "output_type": "stream",
     "text": [
      "3bull_1d.pickle\n"
     ]
    },
    {
     "name": "stderr",
     "output_type": "stream",
     "text": [
      "100%|██████████████████████████████████████████████████████████████████████████████████| 31/31 [00:02<00:00, 12.84it/s]"
     ]
    },
    {
     "name": "stdout",
     "output_type": "stream",
     "text": [
      "(747, 256, 4)\n",
      "(419,)\n",
      "(328,)\n"
     ]
    },
    {
     "name": "stderr",
     "output_type": "stream",
     "text": [
      "\n"
     ]
    },
    {
     "data": {
      "text/plain": [
       "'\\n    #균등화\\n    uI = YY==1\\n    dI = YY==0\\n\\n    length = min(sum(uI), sum(dI))\\n        \\n    XX = np.concatenate( (XX[uI][:length], XX[dI][:length]  ), axis=0)\\n    YY = np.concatenate( (YY[uI][:length], YY[dI][:length]  ), axis=0)\\n'"
      ]
     },
     "execution_count": 15,
     "metadata": {},
     "output_type": "execute_result"
    }
   ],
   "source": [
    "import os\n",
    "import pandas as pd\n",
    "import numpy as np\n",
    "from tqdm import tqdm\n",
    "import pickle\n",
    "from WavletTransform import wavlet_transform\n",
    "\n",
    "\n",
    "base = 256  # 몇 일의 데이터를 쓸 것인가\n",
    "period = 20   # 몇 step내를 예측할 것인가\n",
    "step = 1  # 몇 step씩 이동할 것인가\n",
    "\n",
    "#pickle_list=['3bull_1h_uptodate.pickle', 'etf_1h.pickle', 'stock_1h.pckle']\n",
    "pickle_list=['3bull_1d.pickle', 'dummy' ]\n",
    "X, Y = [],[]\n",
    "for dict_file in pickle_list:\n",
    "    print(dict_file)\n",
    "    with open(dict_file,\"rb\") as fr:\n",
    "        container = pickle.load(fr)\n",
    "\n",
    "    \n",
    "    for name in tqdm(container):\n",
    "        \n",
    "        Data = container[name]\n",
    "        Data.columns=[\"High\", \"Low\", \"Close\", \"Volume\"]                \n",
    "        Data[\"Volume\"]=np.log(Data[\"Volume\"] + 1)\n",
    "        Data.dropna(subset=['Close'], inplace=True) \n",
    "#        print(Data)\n",
    "        \n",
    "              \n",
    "            \n",
    "#        date_list = Data.iloc[base-1:].loc[:].index[:-period][::step]    # 예측하려는 날짜-1일까지 step씩\n",
    "        date_list = Data.iloc[base-1:].loc[\"2021063015\":].index[:-period][::step]    # 예측하려는 날짜-1일까지 step씩\n",
    "        #date_list = Data.iloc[base-1:].index[:-period]            #예측하려는 날짜-1\n",
    "        \n",
    "        # i는 예측하려는 날-1\n",
    "        for i in date_list:\n",
    "            \n",
    "            \n",
    "            close_std=Data.loc[:i].iloc[-base:][\"Close\"].std()    #수정종가의 표준편차\n",
    "            Last_price = Data.loc[i]['Close'] + 0.0001\n",
    "            y = Data.loc[i:].iloc[1:period + 1][\"Close\"]/Last_price - 1\n",
    "            err=1\n",
    "            \n",
    "            for s in range(15, 14, -1):#15%는 올라야지\n",
    "                fluct = y[abs(y) > 0.01*s]\n",
    "                if np.shape(fluct)[0] > 0:\n",
    "                    y=fluct.iloc[0]     #후에 어떤 추가적 변동이 있었든지 가장 먼저 변동한 것만 취급한다.\n",
    "                    err=0\n",
    "                    break\n",
    "            if err==1:continue\n",
    "            \n",
    "            x = Data.loc[:i].iloc[-base:]           #예측일자 -base일\n",
    "            if x.isnull().values.any() : continue   #null값 있으면 pass            \n",
    "            x = (x-x.mean())/(x.std()+0.0001)        #정규화    \n",
    "                        \n",
    "            \n",
    "            y = (np.sign(y)+1)//2  #올랐으면 1 내렸으면 0\n",
    "            Y.append(y)\n",
    "            X.append(x)    \n",
    "\n",
    "    XX = np.array(X)\n",
    "    YY = np.array(Y, dtype=\"uint8\")\n",
    "\n",
    "    I = np.arange(np.shape(YY)[0])\n",
    "    np.random.shuffle(I)\n",
    "\n",
    "    XX = XX[I]\n",
    "    YY = YY[I]\n",
    "\n",
    "    shape = np.shape(XX)\n",
    "    print(shape)\n",
    "    print(np.shape(YY[YY==0])), print(np.shape(YY[YY==1]))\n",
    "    \n",
    "    save_name=dict_file.split('.')[0]\n",
    "    np.save('X_test.npy', XX)\n",
    "    np.save('Y_test.npy', YY)\n",
    "    break\n",
    "'''\n",
    "    #균등화\n",
    "    uI = YY==1\n",
    "    dI = YY==0\n",
    "\n",
    "    length = min(sum(uI), sum(dI))\n",
    "        \n",
    "    XX = np.concatenate( (XX[uI][:length], XX[dI][:length]  ), axis=0)\n",
    "    YY = np.concatenate( (YY[uI][:length], YY[dI][:length]  ), axis=0)\n",
    "'''\n",
    "    \n"
   ]
  },
  {
   "cell_type": "code",
   "execution_count": null,
   "metadata": {},
   "outputs": [],
   "source": []
  }
 ],
 "metadata": {
  "kernelspec": {
   "display_name": "Python 3",
   "language": "python",
   "name": "python3"
  },
  "language_info": {
   "codemirror_mode": {
    "name": "ipython",
    "version": 3
   },
   "file_extension": ".py",
   "mimetype": "text/x-python",
   "name": "python",
   "nbconvert_exporter": "python",
   "pygments_lexer": "ipython3",
   "version": "3.8.5"
  }
 },
 "nbformat": 4,
 "nbformat_minor": 4
}
