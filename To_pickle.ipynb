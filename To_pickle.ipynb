{
 "cells": [
  {
   "cell_type": "code",
   "execution_count": 10,
   "metadata": {},
   "outputs": [],
   "source": [
    "import os\n",
    "import pandas as pd\n",
    "import numpy as np\n",
    "from tqdm import tqdm\n",
    "import pickle"
   ]
  },
  {
   "cell_type": "code",
   "execution_count": 11,
   "metadata": {},
   "outputs": [
    {
     "name": "stderr",
     "output_type": "stream",
     "text": [
      " 16%|█████████████▍                                                                     | 5/31 [00:00<00:00, 46.31it/s]"
     ]
    },
    {
     "name": "stdout",
     "output_type": "stream",
     "text": [
      "3bull_1d\n"
     ]
    },
    {
     "name": "stderr",
     "output_type": "stream",
     "text": [
      "100%|██████████████████████████████████████████████████████████████████████████████████| 31/31 [00:00<00:00, 59.40it/s]\n"
     ]
    }
   ],
   "source": [
    "\n",
    "\n",
    "path_dir = './'\n",
    "#folder_list = ['Bitcoin_1h', 'stock_1h', 'etf_1h', 'stock_1d']\n",
    "folder_list = ['3bull_1d', '.ini']\n",
    "\n",
    "for folder in folder_list:\n",
    "    if \".ini\" in folder: continue\n",
    "    print(folder)\n",
    "    X={}\n",
    "    \n",
    "    file_list = os.listdir(path_dir + folder)\n",
    "    \n",
    "    for file in tqdm(file_list):\n",
    "        if \".csv\" not in file: continue\n",
    "        \n",
    "        name=file.split('_')[0]\n",
    "        \n",
    "        file = path_dir + folder + \"/\" + file\n",
    "\n",
    "        Data = pd.read_csv(file, index_col=0, engine='python')\n",
    "        Data.dropna(subset=['High'], inplace=True)\n",
    "        Data.index = [int(''.join(x.split(':')[:2]).replace('-', '').replace(' ', '')) for x in Data.index]  #인덱스 정수화\n",
    "        \n",
    "        X[name]=Data\n",
    "    \n",
    "    \n",
    "    with open(folder+\".pickle\",\"wb\") as fw:\n",
    "        pickle.dump(X, fw)\n",
    "\n"
   ]
  },
  {
   "cell_type": "code",
   "execution_count": 15,
   "metadata": {},
   "outputs": [
    {
     "data": {
      "text/plain": [
       "Int64Index([20210325, 20210326], dtype='int64')"
      ]
     },
     "execution_count": 15,
     "metadata": {},
     "output_type": "execute_result"
    }
   ],
   "source": [
    "X[i].index[:3][:-1]"
   ]
  },
  {
   "cell_type": "code",
   "execution_count": 16,
   "metadata": {},
   "outputs": [],
   "source": [
    "X=np.array([1,2,3])"
   ]
  },
  {
   "cell_type": "code",
   "execution_count": 22,
   "metadata": {},
   "outputs": [
    {
     "data": {
      "text/plain": [
       "0"
      ]
     },
     "execution_count": 22,
     "metadata": {},
     "output_type": "execute_result"
    }
   ],
   "source": [
    "np.shape(X[X>4])[0]"
   ]
  },
  {
   "cell_type": "code",
   "execution_count": 31,
   "metadata": {},
   "outputs": [
    {
     "data": {
      "text/plain": [
       "numpy.int32"
      ]
     },
     "execution_count": 31,
     "metadata": {},
     "output_type": "execute_result"
    }
   ],
   "source": [
    "type(np.sign(-21)+1)"
   ]
  },
  {
   "cell_type": "code",
   "execution_count": null,
   "metadata": {},
   "outputs": [],
   "source": []
  }
 ],
 "metadata": {
  "kernelspec": {
   "display_name": "Python 3",
   "language": "python",
   "name": "python3"
  },
  "language_info": {
   "codemirror_mode": {
    "name": "ipython",
    "version": 3
   },
   "file_extension": ".py",
   "mimetype": "text/x-python",
   "name": "python",
   "nbconvert_exporter": "python",
   "pygments_lexer": "ipython3",
   "version": "3.8.5"
  }
 },
 "nbformat": 4,
 "nbformat_minor": 4
}
