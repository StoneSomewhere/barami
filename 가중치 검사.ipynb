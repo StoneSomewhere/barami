{
 "cells": [
  {
   "cell_type": "code",
   "execution_count": null,
   "metadata": {},
   "outputs": [],
   "source": [
    "import numpy as np\n",
    "import random\n",
    "from LoadData import load_data\n",
    "import tensorflow as tf\n",
    "from tensorflow.keras.layers import SimpleRNN, GRU, Dense, Dropout\n",
    "from tensorflow.keras.models import Sequential, load_model\n",
    "import tensorflow.keras.backend as K\n",
    "from tensorflow.keras import optimizers\n",
    "\n",
    "model = load_model('Large_Stacked_RNN_1h_0.h5')\n",
    "\n",
    "#print(\"Done!\")\n",
    "\n",
    "#model.summary()\n",
    "#a = model.layers\n",
    "#for i in range(len(a)):print(a[i])\n",
    "\n",
    "a = model.get_weights()\n",
    "for i in range(len(a)):print(a[i][abs(a[i])>2])\n",
    "    \n",
    "model = load_model('Large_Stacked_RNN2_1h_0.h5')\n",
    "a = model.get_weights()\n",
    "for i in range(len(a)):print(a[i][abs(a[i])>2])"
   ]
  },
  {
   "cell_type": "code",
   "execution_count": null,
   "metadata": {},
   "outputs": [],
   "source": [
    "a = model.get_weights()\n",
    "for i in range(len(a)):print(a[i][abs(a[i])>1)"
   ]
  }
 ],
 "metadata": {
  "kernelspec": {
   "display_name": "Python 3",
   "language": "python",
   "name": "python3"
  },
  "language_info": {
   "codemirror_mode": {
    "name": "ipython",
    "version": 3
   },
   "file_extension": ".py",
   "mimetype": "text/x-python",
   "name": "python",
   "nbconvert_exporter": "python",
   "pygments_lexer": "ipython3",
   "version": "3.8.5"
  }
 },
 "nbformat": 4,
 "nbformat_minor": 2
}
