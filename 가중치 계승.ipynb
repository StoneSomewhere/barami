{
 "cells": [
  {
   "cell_type": "code",
   "execution_count": 1,
   "metadata": {},
   "outputs": [],
   "source": [
    "import numpy as np\n",
    "import tensorflow_addons as tfa\n",
    "from LoadData import load_data\n",
    "from tensorflow.keras import regularizers, constraints\n",
    "from tensorflow.keras.layers import SimpleRNN, GRU, Dense, Dropout\n",
    "from tensorflow.keras.models import Sequential,load_model\n",
    "import tensorflow.keras.backend as K\n",
    "from tensorflow.keras import optimizers\n",
    "\n",
    "def duplicate(source, source_index, object, object_index):\n",
    "    s = source.layers[source_index].get_weights()\n",
    "    o = object.layers[object_index].get_weights()\n",
    "    \n",
    "    for n in range(np.shape(o)[0]):\n",
    "        s_shape = np.shape(s[n])\n",
    "        o_shape = np.shape(o[n])\n",
    "        \n",
    "        if len(o_shape) == 1:\n",
    "            o[n][:s_shape[0]] = s[n][:o_shape[0]]\n",
    "        elif len(o_shape) == 2:        \n",
    "            o[n][:s_shape[0], :s_shape[1]] = s[n][:o_shape[0], :o_shape[1]]\n",
    "        elif len(o_shape) == 3:\n",
    "            o[n][:s_shape[0], :s_shape[1], :s_shape[2]] = s[n][:o_shape[0], :o_shape[1], :o_shape[2]]\n",
    "\n",
    "    object.layers[object_index].set_weights(o)\n"
   ]
  },
  {
   "cell_type": "code",
   "execution_count": 4,
   "metadata": {},
   "outputs": [
    {
     "name": "stdout",
     "output_type": "stream",
     "text": [
      "WARNING:tensorflow:No training configuration found in the save file, so the model was *not* compiled. Compile it manually.\n",
      "WARNING:tensorflow:Compiled the loaded model, but the compiled metrics have yet to be built. `model.compile_metrics` will be empty until you train or evaluate the model.\n"
     ]
    }
   ],
   "source": [
    "s = load_model('GRU2_1h.h5')\n",
    "\n",
    "#print(s.layers[0].get_weights()[0])\n",
    "#print(np.shape(s.layers[0].get_weights()[0]))\n",
    "\n",
    "o = load_model('GRU2_1_1h.h5')\n",
    "\n",
    "for i in range(0,11,2):\n",
    "    duplicate(s, i, o, i)\n",
    "\n",
    "\n",
    "o.save('GRU2_1_1h.h5')\n",
    "\n",
    "#print(o.layers[0].get_weights()[0])\n",
    "#print(np.shape(s.layers[0].get_weights()[0]))"
   ]
  },
  {
   "cell_type": "code",
   "execution_count": 8,
   "metadata": {},
   "outputs": [
    {
     "name": "stdout",
     "output_type": "stream",
     "text": [
      "[[ True]\n",
      " [ True]\n",
      " [ True]\n",
      " [ True]\n",
      " [ True]\n",
      " [ True]\n",
      " [ True]\n",
      " [ True]\n",
      " [ True]\n",
      " [ True]\n",
      " [ True]\n",
      " [ True]\n",
      " [ True]\n",
      " [ True]\n",
      " [ True]\n",
      " [ True]]\n",
      "[ True]\n"
     ]
    }
   ],
   "source": [
    "for i in range(0,11, 2):\n",
    "    for n in range(0, np.shape(s.layers[i].get_weights())[0]):\n",
    "\n",
    "        print( s.layers[i].get_weights()[n] ==o.layers[i+2].get_weights()[n] )\n",
    "\n"
   ]
  },
  {
   "cell_type": "code",
   "execution_count": 27,
   "metadata": {},
   "outputs": [
    {
     "ename": "IndexError",
     "evalue": "list index out of range",
     "output_type": "error",
     "traceback": [
      "\u001b[1;31m---------------------------------------------------------------------------\u001b[0m",
      "\u001b[1;31mIndexError\u001b[0m                                Traceback (most recent call last)",
      "\u001b[1;32m<ipython-input-27-223251f0604d>\u001b[0m in \u001b[0;36m<module>\u001b[1;34m\u001b[0m\n\u001b[0;32m      1\u001b[0m \u001b[0mi\u001b[0m \u001b[1;33m=\u001b[0m \u001b[1;36m3\u001b[0m\u001b[1;33m\u001b[0m\u001b[1;33m\u001b[0m\u001b[0m\n\u001b[0;32m      2\u001b[0m \u001b[1;33m\u001b[0m\u001b[0m\n\u001b[1;32m----> 3\u001b[1;33m print(np.shape(s.layers[2].get_weights()[i]),\n\u001b[0m\u001b[0;32m      4\u001b[0m np.shape(o.layers[2].get_weights()[i]))\n",
      "\u001b[1;31mIndexError\u001b[0m: list index out of range"
     ]
    }
   ],
   "source": [
    "i = 3\n",
    "\n",
    "print(np.shape(s.layers[2].get_weights()[i]),\n",
    "np.shape(o.layers[2].get_weights()[i]))"
   ]
  },
  {
   "cell_type": "code",
   "execution_count": null,
   "metadata": {},
   "outputs": [],
   "source": []
  }
 ],
 "metadata": {
  "kernelspec": {
   "display_name": "Python 3",
   "language": "python",
   "name": "python3"
  },
  "language_info": {
   "codemirror_mode": {
    "name": "ipython",
    "version": 3
   },
   "file_extension": ".py",
   "mimetype": "text/x-python",
   "name": "python",
   "nbconvert_exporter": "python",
   "pygments_lexer": "ipython3",
   "version": "3.8.5"
  }
 },
 "nbformat": 4,
 "nbformat_minor": 2
}
